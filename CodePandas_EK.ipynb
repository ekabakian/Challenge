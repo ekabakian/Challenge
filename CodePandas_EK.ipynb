{
 "cells": [
  {
   "cell_type": "markdown",
   "id": "d5791c7f-5497-4fd8-ad4d-9f0a29b4bc9c",
   "metadata": {},
   "source": [
    "## Librerias"
   ]
  },
  {
   "cell_type": "code",
   "execution_count": 1,
   "id": "12982983-5c55-4057-8a05-4b7e5576328e",
   "metadata": {},
   "outputs": [],
   "source": [
    "import findspark\n",
    "findspark.init()\n",
    "from pyspark.sql import SparkSession \n",
    "import logging\n",
    "import os\n",
    "import pyspark.sql.functions as F\n",
    "import datetime, time\n",
    "from pyspark.sql.functions import regexp_replace, to_date\n",
    "from pyspark.sql.types import StructType,StructField, StringType, IntegerType, DoubleType, DateType   \n",
    "import pandas as pd"
   ]
  },
  {
   "cell_type": "code",
   "execution_count": null,
   "id": "aefe0a62-05e3-4d92-8764-03904f907b23",
   "metadata": {},
   "outputs": [],
   "source": [
    "spark = SparkSession.builder.appName('TestEK')\\\n",
    "                .config('spark.master','local[*]')\\\n",
    "                .config('spark.shuffle.sql.partitions',1)\\\n",
    "                .getOrCreate()\n",
    "sqlContext = SparkSession(spark)"
   ]
  },
  {
   "cell_type": "code",
   "execution_count": null,
   "id": "16031f6d-7850-4d9f-bee5-c224191d2420",
   "metadata": {},
   "outputs": [],
   "source": [
    "## spark.stop()"
   ]
  },
  {
   "cell_type": "markdown",
   "id": "81038f54-c78f-45a6-b884-91829506c726",
   "metadata": {},
   "source": [
    "#### initialize logger"
   ]
  },
  {
   "cell_type": "code",
   "execution_count": null,
   "id": "ab964897-84bb-4ac3-b3fe-251a52d26584",
   "metadata": {},
   "outputs": [],
   "source": [
    "logging.basicConfig(filename='CodePandas_EK.log',  \n",
    "                    level=logging.INFO, \n",
    "                    format= '[%(asctime)s] - %(levelname)s - %(message)s',\n",
    "                    datefmt='%H:%M:%S',\n",
    "                    filemode='w')"
   ]
  },
  {
   "cell_type": "markdown",
   "id": "a1f095b8-dbc5-49a8-a402-beccadfd9933",
   "metadata": {},
   "source": [
    "## Cargar los datasets utilizando Spark y mantenerlos en formato parquet"
   ]
  },
  {
   "cell_type": "markdown",
   "id": "0b6a972c-40c6-41d8-a978-437bff5c0073",
   "metadata": {},
   "source": [
    "#### Class definitions"
   ]
  },
  {
   "cell_type": "code",
   "execution_count": null,
   "id": "388d29a6-f125-48e6-b33f-737dcac80104",
   "metadata": {},
   "outputs": [],
   "source": [
    "class MyFile:\n",
    "    def __init__(self, path, name):\n",
    "        self.path = path\n",
    "        self.name = name\n",
    "        self.dfNews = [] \n",
    "        logging.info(\"*********************************************************\")\n",
    "        logging.info(f\"Iniciando carga de {self.name} con Spark.\")\n",
    "\n",
    "    def readNews(self):\n",
    "        self.dfNews = pd.read_csv(\"archive/\"+self.name+\".csv\", sep = ',',header='infer')\n",
    "        logging.info(f\"El archivo nuevo tiene {len(self.dfNews)} registros.\") \n",
    "\n",
    "    def updateSchema(self):\n",
    "        pass\n",
    "\n",
    "    def initialLoad(self):\n",
    "        self.dfNews.to_parquet(\"parquet/pandas/\"+self.name+\".parquet\")\n",
    "        logging.info(f\"Carga incial completada. Se cargaron {len(self.dfNews)} registros.\")\n",
    "\n",
    "    def incrementalLoad(self):\n",
    "        df = pd.read_parquet(\"parquet/pandas/\"+self.name+\".parquet\")\n",
    "        logging.info(f\"El archivo destino tiene {len(df)} registros.\") \n",
    "\n",
    "        df2 = pd.concat([df, self.dfNews[~self.dfNews.index.isin(df.index)]])\n",
    "        insertCount = len(df2)-len(df)\n",
    "\n",
    "        df3 = self.dfNews.merge(df2, how='left', indicator=True) \n",
    "        dfToUpdate=df3.loc[df3['_merge'] == 'left_only'] \n",
    "        updateCount = len(dfToUpdate)\n",
    "       \n",
    "        df2.update(self.dfNews)\n",
    "\n",
    "        df2.to_parquet(\"parquet/pandas/\"+self.name+\".parquet\")\n",
    "        logging.info(f\"Se actualizaron {updateCount} registros y se insertaron {insertCount} nuevos.\") "
   ]
  },
  {
   "cell_type": "markdown",
   "id": "f1d1804e-cd2f-4ab2-8ba4-cae82c1bde60",
   "metadata": {
    "jp-MarkdownHeadingCollapsed": true
   },
   "source": [
    "###### CountryWiseLatest"
   ]
  },
  {
   "cell_type": "code",
   "execution_count": null,
   "id": "5ae93f23-da42-4657-8f6f-94343d4cf544",
   "metadata": {},
   "outputs": [],
   "source": [
    "class CountryWiseLatest(MyFile):\n",
    "    def __init__(self,path, name):\n",
    "        super().__init__(path, name)\n",
    "\n",
    "    def updateSchema(self):\n",
    "        self.dfNews = self.dfNews.rename(columns={\"Country/Region\":\"Country\",\n",
    "                            \"New cases\":\"NewCases\",\n",
    "                            \"New deaths\":\"NewDeaths\",\n",
    "                            \"New recovered\":\"NewRecovered\",\n",
    "                            \"Deaths / 100 Cases\":\"Deaths100Cases\",\n",
    "                            \"Recovered / 100 Cases\":\"Recovered100Cases\",\n",
    "                            \"Deaths / 100 Recovered\":\"Deaths100Recovered\",\n",
    "                            \"Confirmed last week\":\"ConfirmedLastWeek\",\n",
    "                            \"1 week change\":\"weekChange\",\n",
    "                            \"1 week % increase\":\"weekIncrease\",\n",
    "                            \"WHO Region\":\"WHORegion\"\n",
    "                           }).set_index([\"Country\",\"WHORegion\"])"
   ]
  },
  {
   "cell_type": "markdown",
   "id": "984af08e-9ccf-4db1-b669-b52d8f632564",
   "metadata": {
    "jp-MarkdownHeadingCollapsed": true
   },
   "source": [
    "###### FullGrouped"
   ]
  },
  {
   "cell_type": "code",
   "execution_count": null,
   "id": "b1307041-aa7b-41c5-b11e-a36a3b2caf5c",
   "metadata": {},
   "outputs": [],
   "source": [
    "class FullGrouped(MyFile):\n",
    "    def __init__(self,path, name):\n",
    "        super().__init__(path, name)\n",
    "\n",
    "    def updateSchema(self):\n",
    "        self.dfNews[\"Date\"] = pd.to_datetime(self.dfNews[\"Date\"], format=\"%Y-%m-%d\")\n",
    "        \n",
    "        self.dfNews = self.dfNews.rename(columns={\"Country/Region\":\"Country\",\n",
    "                            \"New cases\":\"NewCases\",\n",
    "                            \"New deaths\":\"NewDeaths\",\n",
    "                            \"New recovered\":\"NewRecovered\", \n",
    "                            \"WHO Region\":\"WHORegion\"\n",
    "                           }).set_index([\"Date\",\"Country\",\"WHORegion\"])"
   ]
  },
  {
   "cell_type": "markdown",
   "id": "385feae4-538b-4018-980b-364c124820d4",
   "metadata": {
    "jp-MarkdownHeadingCollapsed": true
   },
   "source": [
    "###### Covid19CleanComplete"
   ]
  },
  {
   "cell_type": "code",
   "execution_count": null,
   "id": "8bab76c8-3cfc-466f-840f-a5ae7851140b",
   "metadata": {},
   "outputs": [],
   "source": [
    "class Covid19CleanComplete(MyFile):\n",
    "    def __init__(self,path, name):\n",
    "        super().__init__(path, name)\n",
    "\n",
    "    def updateSchema(self):\n",
    "        self.dfNews[\"Date\"] = pd.to_datetime(self.dfNews[\"Date\"], format=\"%Y-%m-%d\")\n",
    "        \n",
    "        self.dfNews = self.dfNews.rename(columns={\"Province/State\":\"State\",\n",
    "                            \"Country/Region\":\"Country\", \n",
    "                            \"WHO Region\":\"WHORegion\"\n",
    "                           }).set_index([\"Date\",\"WHORegion\",\"Country\",\"State\"]) "
   ]
  },
  {
   "cell_type": "markdown",
   "id": "a170b266-1098-4d7b-b4d5-db944abe9765",
   "metadata": {
    "jp-MarkdownHeadingCollapsed": true
   },
   "source": [
    "###### WorldometerData"
   ]
  },
  {
   "cell_type": "code",
   "execution_count": null,
   "id": "e6a7a07b-9f77-450e-9c7b-c2683e924735",
   "metadata": {},
   "outputs": [],
   "source": [
    "class WorldometerData(MyFile):\n",
    "    def __init__(self,path, name):\n",
    "        super().__init__(path, name) \n",
    "\n",
    "    def updateSchema(self):\n",
    "        self.dfNews = self.dfNews.rename(columns={\"Country/Region\":\"Country\",\n",
    "                            \"Serious,Critical\":\"Serious\",\n",
    "                            \"Tot Cases/1M pop\":\"TotCases1MPop\",\n",
    "                            \"Deaths/1M pop\":\"Deaths1MPop\",\n",
    "                            \"Tests/1M pop\":\"Tests1MPop\",\n",
    "                            \"WHO Region\":\"WHORegion\"\n",
    "                           }).set_index([\"WHORegion\",\"Continent\",\"Country\"]) "
   ]
  },
  {
   "cell_type": "markdown",
   "id": "bd4feed8-9099-408c-9548-f7bed19c7d23",
   "metadata": {
    "jp-MarkdownHeadingCollapsed": true
   },
   "source": [
    "###### DayWise"
   ]
  },
  {
   "cell_type": "code",
   "execution_count": null,
   "id": "4c1b1dda-7528-4769-ad0c-b491e08e4e80",
   "metadata": {},
   "outputs": [],
   "source": [
    "class DayWise(MyFile):\n",
    "    def __init__(self,path, name):\n",
    "        super().__init__(path, name)\n",
    "\n",
    "    def updateSchema(self):\n",
    "        self.dfNews[\"Date\"] = pd.to_datetime(self.dfNews[\"Date\"], format=\"%Y-%m-%d\")\n",
    "        \n",
    "        self.dfNews = self.dfNews.rename(columns={\"New cases\":\"NewCases\",\n",
    "                            \"New deaths\":\"NewDeaths\",\n",
    "                            \"New recovered\":\"NewRecovered\",\n",
    "                            \"Deaths / 100 Cases\":\"Deaths100Cases\",\n",
    "                            \"Recovered / 100 Cases\":\"Recovered100Cases\",\n",
    "                            \"Deaths / 100 Recovered\":\"Deaths100Recovered\",\n",
    "                            \"No. of countries\":\"CountriesNr\"\n",
    "                           }).set_index(\"Date\")"
   ]
  },
  {
   "cell_type": "markdown",
   "id": "dc2513de-9fa5-4a86-8860-07a490482639",
   "metadata": {
    "jp-MarkdownHeadingCollapsed": true
   },
   "source": [
    "###### UsaCountyWise"
   ]
  },
  {
   "cell_type": "code",
   "execution_count": null,
   "id": "911deed2-9016-4dc2-807c-db81749281d3",
   "metadata": {},
   "outputs": [],
   "source": [
    "class UsaCountyWise(MyFile):\n",
    "    def __init__(self,path, name):\n",
    "        super().__init__(path, name)\n",
    "     \n",
    "    def updateSchema(self):\n",
    "        self.dfNews[\"Date\"] = pd.to_datetime(self.dfNews[\"Date\"], format=\"%m/%d/%y\")\n",
    "        \n",
    "        self.dfNews = self.dfNews.rename(columns={\"Province_State\":\"State\",\n",
    "                            \"Country_Region\":\"Country\",\n",
    "                            \"Long_\":\"Long\",\n",
    "                            \"Combined_Key\":\"CombinedKey\"\n",
    "                           }).set_index([\"Date\",\"State\",\"Country\",\"Admin2\"])          "
   ]
  },
  {
   "cell_type": "markdown",
   "id": "00a00131-6665-42ac-86c0-3ea3acc16f2c",
   "metadata": {},
   "source": [
    "#### Main"
   ]
  },
  {
   "cell_type": "code",
   "execution_count": null,
   "id": "2316df3c-4c56-4e4d-80b9-6e6e3f15bc10",
   "metadata": {},
   "outputs": [],
   "source": [
    "path = \"./archive/\"\n",
    "files = os.listdir(path)\n",
    "files = list(map(lambda x: x[0:x.find(\".\")] ,filter(lambda f: f.endswith('.csv'), files)))"
   ]
  },
  {
   "cell_type": "code",
   "execution_count": null,
   "id": "04444c70-bd1c-484c-b3e6-6be1d0dcd30a",
   "metadata": {},
   "outputs": [],
   "source": [
    "for x in files:\n",
    "    if x == \"country_wise_latest\":\n",
    "        file = CountryWiseLatest(path,x)\n",
    "    elif x == \"full_grouped\":\n",
    "        file = FullGrouped(path,x)\n",
    "    elif x == \"covid_19_clean_complete\":\n",
    "        file = Covid19CleanComplete(path,x)\n",
    "    elif x == \"day_wise\":\n",
    "        file = DayWise(path,x)\n",
    "    elif x == \"usa_county_wise\":\n",
    "        file = UsaCountyWise(path,x)\n",
    "    elif x == \"worldometer_data\":\n",
    "        file = WorldometerData(path,x)\n",
    "    file.readNews()\n",
    "    file.updateSchema()\n",
    "    if x+\".parquet\" in os.listdir(\"./parquet/pandas\"):\n",
    "        file.incrementalLoad()\n",
    "    else:\n",
    "        file.initialLoad() "
   ]
  }
 ],
 "metadata": {
  "kernelspec": {
   "display_name": "Python 3 (ipykernel)",
   "language": "python",
   "name": "python3"
  },
  "language_info": {
   "codemirror_mode": {
    "name": "ipython",
    "version": 3
   },
   "file_extension": ".py",
   "mimetype": "text/x-python",
   "name": "python",
   "nbconvert_exporter": "python",
   "pygments_lexer": "ipython3",
   "version": "3.11.5"
  }
 },
 "nbformat": 4,
 "nbformat_minor": 5
}
