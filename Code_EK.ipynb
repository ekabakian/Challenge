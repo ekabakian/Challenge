{
 "cells": [
  {
   "cell_type": "code",
   "execution_count": 1,
   "id": "12982983-5c55-4057-8a05-4b7e5576328e",
   "metadata": {},
   "outputs": [],
   "source": [
    "import findspark\n",
    "findspark.init()"
   ]
  },
  {
   "cell_type": "code",
   "execution_count": 2,
   "id": "7db608b6-0bff-448c-8d5e-c5a736e467a6",
   "metadata": {},
   "outputs": [],
   "source": [
    "from pyspark.sql import SparkSession"
   ]
  },
  {
   "cell_type": "code",
   "execution_count": 3,
   "id": "a503d9d4-5789-4763-8e7d-5a3dcef65910",
   "metadata": {},
   "outputs": [],
   "source": [
    "import pandas as pd"
   ]
  },
  {
   "cell_type": "code",
   "execution_count": 4,
   "id": "b9703b5f-7151-4fa6-95d8-6ea528ff512c",
   "metadata": {},
   "outputs": [],
   "source": [
    "import pyarrow as pa\n",
    "import pyarrow.parquet as pq"
   ]
  },
  {
   "cell_type": "code",
   "execution_count": 5,
   "id": "aefe0a62-05e3-4d92-8764-03904f907b23",
   "metadata": {},
   "outputs": [],
   "source": [
    "spark = SparkSession.builder.appName('TestEK')\\\n",
    "                .config('spark.master','local[4]')\\\n",
    "                .config('spark.shuffle.sql.partitions',1)\\\n",
    "                .getOrCreate()\n",
    "sqlContext = SparkSession(spark)"
   ]
  },
  {
   "cell_type": "code",
   "execution_count": 6,
   "id": "16031f6d-7850-4d9f-bee5-c224191d2420",
   "metadata": {},
   "outputs": [],
   "source": [
    " ##  spark.stop()"
   ]
  },
  {
   "cell_type": "code",
   "execution_count": 7,
   "id": "ab964897-84bb-4ac3-b3fe-251a52d26584",
   "metadata": {},
   "outputs": [],
   "source": [
    "from pyspark.sql.types import DoubleType, IntegerType, StringType, StructType, StructField, DateType "
   ]
  },
  {
   "cell_type": "markdown",
   "id": "a1f095b8-dbc5-49a8-a402-beccadfd9933",
   "metadata": {},
   "source": [
    "## Cargar los datasets utilizando Spark y mantenerlos en formato parquet"
   ]
  },
  {
   "cell_type": "code",
   "execution_count": 8,
   "id": "9261ca83-3a79-4fac-876d-c51159da1864",
   "metadata": {},
   "outputs": [],
   "source": [
    "df = spark.read.csv('archive/country_wise_latest.csv', sep = ',', header = True, inferSchema = True)"
   ]
  },
  {
   "cell_type": "code",
   "execution_count": 9,
   "id": "2f8d0e6d-4246-459b-8265-ae4d8bc4497d",
   "metadata": {},
   "outputs": [],
   "source": [
    "df.write.parquet('parquet/countryWiseLatest',mode='overwrite')"
   ]
  },
  {
   "cell_type": "code",
   "execution_count": 10,
   "id": "63c665f4-3133-4b97-9cb3-06ff4d4a1ffa",
   "metadata": {},
   "outputs": [],
   "source": [
    "df = spark.read.csv('archive/covid_19_clean_complete.csv', sep = ',', header = True, inferSchema = True)"
   ]
  },
  {
   "cell_type": "code",
   "execution_count": 11,
   "id": "501ce763-a724-4f8a-a3fb-262c63e39f80",
   "metadata": {},
   "outputs": [],
   "source": [
    "df.write.parquet('parquet/covid19',mode='overwrite')"
   ]
  },
  {
   "cell_type": "code",
   "execution_count": 12,
   "id": "6571d83e-654f-4f8c-a41e-826ee11f248b",
   "metadata": {},
   "outputs": [],
   "source": [
    "df = spark.read.csv('archive/day_wise.csv', sep = ',', header = True, inferSchema = True)"
   ]
  },
  {
   "cell_type": "code",
   "execution_count": 13,
   "id": "3655239b-2b26-419f-a025-2d19c97cbe98",
   "metadata": {},
   "outputs": [],
   "source": [
    "df.write.parquet('parquet/dayWise',mode='overwrite')"
   ]
  },
  {
   "cell_type": "code",
   "execution_count": 14,
   "id": "771c862e-0af3-405c-af14-9f6a80cdf100",
   "metadata": {},
   "outputs": [],
   "source": [
    "df = spark.read.csv('archive/full_grouped.csv', sep = ',', header = True, inferSchema = True)"
   ]
  },
  {
   "cell_type": "code",
   "execution_count": 15,
   "id": "b6d2effa-a3a1-465c-bd3d-62612f36212b",
   "metadata": {},
   "outputs": [],
   "source": [
    "df.write.parquet('parquet/fullGrouped',mode='overwrite')"
   ]
  },
  {
   "cell_type": "code",
   "execution_count": 16,
   "id": "a9990ea6-0a99-4745-9120-da98b74277c1",
   "metadata": {},
   "outputs": [],
   "source": [
    "df = spark.read.csv('archive/usa_county_wise.csv', sep = ',', header = True, inferSchema = True)"
   ]
  },
  {
   "cell_type": "code",
   "execution_count": 17,
   "id": "e6cd8b0b-8d61-4884-91c3-c20460a66c18",
   "metadata": {},
   "outputs": [],
   "source": [
    "df.write.parquet('parquet/usaCountyWise',mode='overwrite')"
   ]
  },
  {
   "cell_type": "code",
   "execution_count": 18,
   "id": "3dbb4b11-0f9e-4c7a-a04b-470a7152e39a",
   "metadata": {},
   "outputs": [],
   "source": [
    "df = spark.read.csv('archive/worldometer_data.csv', sep = ',', header = True, inferSchema = True)"
   ]
  },
  {
   "cell_type": "code",
   "execution_count": 19,
   "id": "63e2baff-dafd-4ba9-92d5-4f93e9146792",
   "metadata": {},
   "outputs": [],
   "source": [
    "df.write.parquet('parquet/worldometerData',mode='overwrite')"
   ]
  },
  {
   "cell_type": "markdown",
   "id": "b3672971-7f67-44c1-aa68-1197d76e69ef",
   "metadata": {},
   "source": [
    "## Cargar los datasets utilizando Pandas y mantenerlos en formato parquet"
   ]
  },
  {
   "cell_type": "code",
   "execution_count": 20,
   "id": "4368e6fe-f958-4b0f-bd78-741e5a4c03a1",
   "metadata": {},
   "outputs": [],
   "source": [
    "df = pd.read_csv('archive/country_wise_latest.csv', sep = ',', header=0)"
   ]
  },
  {
   "cell_type": "code",
   "execution_count": 21,
   "id": "6ff8dfe9-850b-43b6-8f8f-e037f8578194",
   "metadata": {},
   "outputs": [],
   "source": [
    "table = pa.Table.from_pandas(df)"
   ]
  },
  {
   "cell_type": "code",
   "execution_count": 22,
   "id": "8d941876-0229-43bc-879b-2e505d5a9357",
   "metadata": {},
   "outputs": [],
   "source": [
    "pq.write_table(table, './parquet/country_wise_latest.parquet')"
   ]
  },
  {
   "cell_type": "code",
   "execution_count": 23,
   "id": "056ae21d-9837-4b66-9ba7-18f9caf9b5a8",
   "metadata": {},
   "outputs": [],
   "source": [
    "df = pd.read_csv('archive/country_wise_latest.csv', sep = ',', header=0)"
   ]
  },
  {
   "cell_type": "code",
   "execution_count": 24,
   "id": "97458483-b9d9-4dfd-96a1-43be83496338",
   "metadata": {},
   "outputs": [],
   "source": [
    "table = pa.Table.from_pandas(df)"
   ]
  },
  {
   "cell_type": "code",
   "execution_count": 25,
   "id": "30ab931d-211b-4315-8b0f-98b82b4865d4",
   "metadata": {},
   "outputs": [],
   "source": [
    "pq.write_table(table, './parquet/countryWiseLatest.parquet')"
   ]
  },
  {
   "cell_type": "code",
   "execution_count": 26,
   "id": "0b9b3217-7261-492b-ba02-b81b9395d968",
   "metadata": {},
   "outputs": [],
   "source": [
    "df = pd.read_csv('archive/covid_19_clean_complete.csv', sep = ',', header=0)"
   ]
  },
  {
   "cell_type": "code",
   "execution_count": 27,
   "id": "4b090196-305d-4bac-ae8c-d4fa274f5b7b",
   "metadata": {},
   "outputs": [],
   "source": [
    "table = pa.Table.from_pandas(df)"
   ]
  },
  {
   "cell_type": "code",
   "execution_count": 28,
   "id": "6553ec22-bcdd-4d32-8ddc-4cf4b5321fe9",
   "metadata": {},
   "outputs": [],
   "source": [
    "pq.write_table(table, './parquet/covid_19_clean_complete.parquet')"
   ]
  },
  {
   "cell_type": "code",
   "execution_count": 29,
   "id": "b48a3216-878a-4060-abe0-77b84a7fdfa8",
   "metadata": {},
   "outputs": [],
   "source": [
    "df = pd.read_csv('archive/full_grouped.csv', sep = ',', header=0)"
   ]
  },
  {
   "cell_type": "code",
   "execution_count": 30,
   "id": "8d90866c-0c7b-4d68-b7fd-08b575ec146a",
   "metadata": {},
   "outputs": [],
   "source": [
    "table = pa.Table.from_pandas(df)"
   ]
  },
  {
   "cell_type": "code",
   "execution_count": 31,
   "id": "42bb9b7a-1f9d-44f4-b269-d58cd69d4641",
   "metadata": {},
   "outputs": [],
   "source": [
    "pq.write_table(table, './parquet/full_grouped.parquet')"
   ]
  },
  {
   "cell_type": "code",
   "execution_count": 32,
   "id": "cba4ba08-2fa0-4460-9abc-d7c78087efad",
   "metadata": {},
   "outputs": [],
   "source": [
    "df = pd.read_csv('archive/usa_county_wise.csv', sep = ',', header=0)"
   ]
  },
  {
   "cell_type": "code",
   "execution_count": 33,
   "id": "8a252901-a379-4038-863c-10b600d187bc",
   "metadata": {},
   "outputs": [],
   "source": [
    "table = pa.Table.from_pandas(df)"
   ]
  },
  {
   "cell_type": "code",
   "execution_count": 34,
   "id": "b8874a4e-b985-497f-ad35-a12e8feebc47",
   "metadata": {},
   "outputs": [],
   "source": [
    "pq.write_table(table, './parquet/usa_county_wise.parquet')"
   ]
  },
  {
   "cell_type": "code",
   "execution_count": 35,
   "id": "2469695b-6d41-4a16-a480-888696587853",
   "metadata": {},
   "outputs": [],
   "source": [
    "df = pd.read_csv('archive/worldometer_data.csv', sep = ',', header=0)"
   ]
  },
  {
   "cell_type": "code",
   "execution_count": 36,
   "id": "6bcafdde-c4e7-4b81-abc1-ab1bfe957c66",
   "metadata": {},
   "outputs": [],
   "source": [
    "table = pa.Table.from_pandas(df)"
   ]
  },
  {
   "cell_type": "code",
   "execution_count": 37,
   "id": "9a41fed9-1ea7-4911-b796-fab9b006bac0",
   "metadata": {},
   "outputs": [],
   "source": [
    "pq.write_table(table, './parquet/worldometer_data.parquet')"
   ]
  }
 ],
 "metadata": {
  "kernelspec": {
   "display_name": "Python 3 (ipykernel)",
   "language": "python",
   "name": "python3"
  },
  "language_info": {
   "codemirror_mode": {
    "name": "ipython",
    "version": 3
   },
   "file_extension": ".py",
   "mimetype": "text/x-python",
   "name": "python",
   "nbconvert_exporter": "python",
   "pygments_lexer": "ipython3",
   "version": "3.11.5"
  }
 },
 "nbformat": 4,
 "nbformat_minor": 5
}
